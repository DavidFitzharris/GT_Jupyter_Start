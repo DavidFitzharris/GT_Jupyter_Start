{
 "cells": [
  {
   "cell_type": "code",
   "execution_count": 1,
   "id": "1ce3d86a",
   "metadata": {
    "scrolled": false
   },
   "outputs": [
    {
     "ename": "SyntaxError",
     "evalue": "invalid syntax (Temp/ipykernel_19792/1424298974.py, line 1)",
     "output_type": "error",
     "traceback": [
      "\u001b[1;36m  File \u001b[1;32m\"C:\\Users\\david\\AppData\\Local\\Temp/ipykernel_19792/1424298974.py\"\u001b[1;36m, line \u001b[1;32m1\u001b[0m\n\u001b[1;33m    <h1>Sample Text</h1>\u001b[0m\n\u001b[1;37m    ^\u001b[0m\n\u001b[1;31mSyntaxError\u001b[0m\u001b[1;31m:\u001b[0m invalid syntax\n"
     ]
    }
   ],
   "source": [
    "<h1>Sample Text</h1>\n"
   ]
  },
  {
   "cell_type": "code",
   "execution_count": 2,
   "id": "57f1cac1",
   "metadata": {},
   "outputs": [],
   "source": [
    "x = 6 \n",
    "y = 24"
   ]
  },
  {
   "cell_type": "code",
   "execution_count": 3,
   "id": "385c542a",
   "metadata": {},
   "outputs": [
    {
     "data": {
      "text/plain": [
       "144"
      ]
     },
     "execution_count": 3,
     "metadata": {},
     "output_type": "execute_result"
    }
   ],
   "source": [
    "x * y\n"
   ]
  },
  {
   "cell_type": "markdown",
   "id": "86d97bca",
   "metadata": {},
   "source": [
    "<h1>Test Block</h1>\n"
   ]
  },
  {
   "cell_type": "markdown",
   "id": "fa3e31d2",
   "metadata": {},
   "source": [
    "<h2><i>Sorting with python</i></h2>\n"
   ]
  },
  {
   "cell_type": "code",
   "execution_count": 4,
   "id": "6ad038bd",
   "metadata": {},
   "outputs": [],
   "source": [
    "def sortStdNo(e): return e['stdNo']"
   ]
  },
  {
   "cell_type": "code",
   "execution_count": 5,
   "id": "0c3c3522",
   "metadata": {},
   "outputs": [],
   "source": [
    "students = [\n",
    "    {'Name': 'Dave', 'stdNo': '232'},\n",
    "    {'Name': 'John', 'stdNo': '453'},\n",
    "    {'Name': 'Sarah', 'stdNo': '145'},\n",
    "    {'Name': 'Ciara', 'stdNo': '365'}\n",
    "]"
   ]
  },
  {
   "cell_type": "code",
   "execution_count": 6,
   "id": "4afe8d8f",
   "metadata": {},
   "outputs": [],
   "source": [
    "students.sort(key=sortStdNo)"
   ]
  },
  {
   "cell_type": "code",
   "execution_count": 7,
   "id": "b4318985",
   "metadata": {},
   "outputs": [
    {
     "name": "stdout",
     "output_type": "stream",
     "text": [
      "[{'Name': 'Sarah', 'stdNo': '145'}, {'Name': 'Dave', 'stdNo': '232'}, {'Name': 'Ciara', 'stdNo': '365'}, {'Name': 'John', 'stdNo': '453'}]\n"
     ]
    }
   ],
   "source": [
    "print(students)"
   ]
  },
  {
   "cell_type": "code",
   "execution_count": null,
   "id": "19a23b72",
   "metadata": {},
   "outputs": [],
   "source": []
  }
 ],
 "metadata": {
  "kernelspec": {
   "display_name": "Python 3 (ipykernel)",
   "language": "python",
   "name": "python3"
  },
  "language_info": {
   "codemirror_mode": {
    "name": "ipython",
    "version": 3
   },
   "file_extension": ".py",
   "mimetype": "text/x-python",
   "name": "python",
   "nbconvert_exporter": "python",
   "pygments_lexer": "ipython3",
   "version": "3.9.7"
  }
 },
 "nbformat": 4,
 "nbformat_minor": 5
}
